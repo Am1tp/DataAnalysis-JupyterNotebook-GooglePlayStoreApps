{
 "cells": [
  {
   "cell_type": "markdown",
   "id": "a8936079-116c-48f8-a3b6-8524e72f0410",
   "metadata": {},
   "source": [
    "# Google Play Store Analysis\n",
    "Notes:\n",
    "- The dataset used was compiled around 2017/2018\n",
    "- The dataset does not represent every single app in the Google Play Store during this period\n",
    "- The dataset was served up based on the geographical location (USA) and user behaviour of the user who scraped it\n",
    "- Each apps datasize has been converted to a float in MB, if a value for this field was missing then it has been replaced by the average size for that category\n",
    "- 'Installs' does not represent an exact number of user installs, e.g. if an app has 123,456 installs, Google simply reports an order of magnitude such as 100,000+ (The + has been removed)"
   ]
  },
  {
   "cell_type": "markdown",
   "id": "16dbf33e-5391-49c5-8616-3b7102191243",
   "metadata": {},
   "source": [
    "## Exploratory questions:\n",
    "- How competitive different app categories (e.g., Games, Lifestyle, Weather) are there?\n",
    "- Which app category offers compelling opportunities based on its popularity?\n",
    "- How many downloads would you give up by making your app paid vs. free?\n",
    "- How much can you reasonably charge for a paid app?\n",
    "- Which paid apps have had the highest revenue\n",
    "- How many paid apps will recoup their development costs based on their sales revenue"
   ]
  },
  {
   "cell_type": "markdown",
   "id": "d7807a79-d341-41cb-9ed4-5303129887d8",
   "metadata": {},
   "source": [
    "## Data exploration and cleaning"
   ]
  },
  {
   "cell_type": "code",
   "execution_count": 7,
   "id": "07f82031-9556-476f-8291-c290b4b9e17c",
   "metadata": {},
   "outputs": [],
   "source": [
    "import pandas as pd\n",
    "import matplotlib.pyplot as plt\n",
    "import seaborn as sb"
   ]
  },
  {
   "cell_type": "code",
   "execution_count": 143,
   "id": "c07f770a-7a4f-4f41-b5f3-7f7db5b5acde",
   "metadata": {},
   "outputs": [],
   "source": [
    "data = pd.read_csv('apps.csv', thousands=',')"
   ]
  },
  {
   "cell_type": "code",
   "execution_count": 145,
   "id": "2866b039-e432-4bb2-b2e5-23a1737bf09b",
   "metadata": {
    "scrolled": true
   },
   "outputs": [
    {
     "data": {
      "text/html": [
       "<div>\n",
       "<style scoped>\n",
       "    .dataframe tbody tr th:only-of-type {\n",
       "        vertical-align: middle;\n",
       "    }\n",
       "\n",
       "    .dataframe tbody tr th {\n",
       "        vertical-align: top;\n",
       "    }\n",
       "\n",
       "    .dataframe thead th {\n",
       "        text-align: right;\n",
       "    }\n",
       "</style>\n",
       "<table border=\"1\" class=\"dataframe\">\n",
       "  <thead>\n",
       "    <tr style=\"text-align: right;\">\n",
       "      <th></th>\n",
       "      <th>App</th>\n",
       "      <th>Category</th>\n",
       "      <th>Rating</th>\n",
       "      <th>Reviews</th>\n",
       "      <th>Size_MBs</th>\n",
       "      <th>Installs</th>\n",
       "      <th>Type</th>\n",
       "      <th>Price</th>\n",
       "      <th>Content_Rating</th>\n",
       "      <th>Genres</th>\n",
       "      <th>Last_Updated</th>\n",
       "      <th>Android_Ver</th>\n",
       "    </tr>\n",
       "  </thead>\n",
       "  <tbody>\n",
       "    <tr>\n",
       "      <th>0</th>\n",
       "      <td>Ak Parti Yardım Toplama</td>\n",
       "      <td>SOCIAL</td>\n",
       "      <td>NaN</td>\n",
       "      <td>0</td>\n",
       "      <td>8.7</td>\n",
       "      <td>0</td>\n",
       "      <td>Paid</td>\n",
       "      <td>$13.99</td>\n",
       "      <td>Teen</td>\n",
       "      <td>Social</td>\n",
       "      <td>July 28, 2017</td>\n",
       "      <td>4.1 and up</td>\n",
       "    </tr>\n",
       "    <tr>\n",
       "      <th>1</th>\n",
       "      <td>Ain Arabic Kids Alif Ba ta</td>\n",
       "      <td>FAMILY</td>\n",
       "      <td>NaN</td>\n",
       "      <td>0</td>\n",
       "      <td>33.0</td>\n",
       "      <td>0</td>\n",
       "      <td>Paid</td>\n",
       "      <td>$2.99</td>\n",
       "      <td>Everyone</td>\n",
       "      <td>Education</td>\n",
       "      <td>April 15, 2016</td>\n",
       "      <td>3.0 and up</td>\n",
       "    </tr>\n",
       "    <tr>\n",
       "      <th>2</th>\n",
       "      <td>Popsicle Launcher for Android P 9.0 launcher</td>\n",
       "      <td>PERSONALIZATION</td>\n",
       "      <td>NaN</td>\n",
       "      <td>0</td>\n",
       "      <td>5.5</td>\n",
       "      <td>0</td>\n",
       "      <td>Paid</td>\n",
       "      <td>$1.49</td>\n",
       "      <td>Everyone</td>\n",
       "      <td>Personalization</td>\n",
       "      <td>July 11, 2018</td>\n",
       "      <td>4.2 and up</td>\n",
       "    </tr>\n",
       "    <tr>\n",
       "      <th>3</th>\n",
       "      <td>Command &amp; Conquer: Rivals</td>\n",
       "      <td>FAMILY</td>\n",
       "      <td>NaN</td>\n",
       "      <td>0</td>\n",
       "      <td>19.0</td>\n",
       "      <td>0</td>\n",
       "      <td>NaN</td>\n",
       "      <td>0</td>\n",
       "      <td>Everyone 10+</td>\n",
       "      <td>Strategy</td>\n",
       "      <td>June 28, 2018</td>\n",
       "      <td>Varies with device</td>\n",
       "    </tr>\n",
       "    <tr>\n",
       "      <th>4</th>\n",
       "      <td>CX Network</td>\n",
       "      <td>BUSINESS</td>\n",
       "      <td>NaN</td>\n",
       "      <td>0</td>\n",
       "      <td>10.0</td>\n",
       "      <td>0</td>\n",
       "      <td>Free</td>\n",
       "      <td>0</td>\n",
       "      <td>Everyone</td>\n",
       "      <td>Business</td>\n",
       "      <td>August 6, 2018</td>\n",
       "      <td>4.1 and up</td>\n",
       "    </tr>\n",
       "  </tbody>\n",
       "</table>\n",
       "</div>"
      ],
      "text/plain": [
       "                                            App         Category  Rating  \\\n",
       "0                       Ak Parti Yardım Toplama           SOCIAL     NaN   \n",
       "1                    Ain Arabic Kids Alif Ba ta           FAMILY     NaN   \n",
       "2  Popsicle Launcher for Android P 9.0 launcher  PERSONALIZATION     NaN   \n",
       "3                     Command & Conquer: Rivals           FAMILY     NaN   \n",
       "4                                    CX Network         BUSINESS     NaN   \n",
       "\n",
       "   Reviews  Size_MBs  Installs  Type   Price Content_Rating           Genres  \\\n",
       "0        0       8.7         0  Paid  $13.99           Teen           Social   \n",
       "1        0      33.0         0  Paid   $2.99       Everyone        Education   \n",
       "2        0       5.5         0  Paid   $1.49       Everyone  Personalization   \n",
       "3        0      19.0         0   NaN       0   Everyone 10+         Strategy   \n",
       "4        0      10.0         0  Free       0       Everyone         Business   \n",
       "\n",
       "     Last_Updated         Android_Ver  \n",
       "0   July 28, 2017          4.1 and up  \n",
       "1  April 15, 2016          3.0 and up  \n",
       "2   July 11, 2018          4.2 and up  \n",
       "3   June 28, 2018  Varies with device  \n",
       "4  August 6, 2018          4.1 and up  "
      ]
     },
     "execution_count": 145,
     "metadata": {},
     "output_type": "execute_result"
    }
   ],
   "source": [
    "data.head()"
   ]
  },
  {
   "cell_type": "code",
   "execution_count": 147,
   "id": "6c0b42e2-1c2f-4c53-8159-58cdbd96a69f",
   "metadata": {},
   "outputs": [
    {
     "data": {
      "text/html": [
       "<div>\n",
       "<style scoped>\n",
       "    .dataframe tbody tr th:only-of-type {\n",
       "        vertical-align: middle;\n",
       "    }\n",
       "\n",
       "    .dataframe tbody tr th {\n",
       "        vertical-align: top;\n",
       "    }\n",
       "\n",
       "    .dataframe thead th {\n",
       "        text-align: right;\n",
       "    }\n",
       "</style>\n",
       "<table border=\"1\" class=\"dataframe\">\n",
       "  <thead>\n",
       "    <tr style=\"text-align: right;\">\n",
       "      <th></th>\n",
       "      <th>App</th>\n",
       "      <th>Category</th>\n",
       "      <th>Rating</th>\n",
       "      <th>Reviews</th>\n",
       "      <th>Size_MBs</th>\n",
       "      <th>Installs</th>\n",
       "      <th>Type</th>\n",
       "      <th>Price</th>\n",
       "      <th>Content_Rating</th>\n",
       "      <th>Genres</th>\n",
       "      <th>Last_Updated</th>\n",
       "      <th>Android_Ver</th>\n",
       "    </tr>\n",
       "  </thead>\n",
       "  <tbody>\n",
       "    <tr>\n",
       "      <th>10836</th>\n",
       "      <td>Subway Surfers</td>\n",
       "      <td>GAME</td>\n",
       "      <td>4.5</td>\n",
       "      <td>27723193</td>\n",
       "      <td>76.0</td>\n",
       "      <td>1000000000</td>\n",
       "      <td>Free</td>\n",
       "      <td>0</td>\n",
       "      <td>Everyone 10+</td>\n",
       "      <td>Arcade</td>\n",
       "      <td>July 12, 2018</td>\n",
       "      <td>4.1 and up</td>\n",
       "    </tr>\n",
       "    <tr>\n",
       "      <th>10837</th>\n",
       "      <td>Subway Surfers</td>\n",
       "      <td>GAME</td>\n",
       "      <td>4.5</td>\n",
       "      <td>27724094</td>\n",
       "      <td>76.0</td>\n",
       "      <td>1000000000</td>\n",
       "      <td>Free</td>\n",
       "      <td>0</td>\n",
       "      <td>Everyone 10+</td>\n",
       "      <td>Arcade</td>\n",
       "      <td>July 12, 2018</td>\n",
       "      <td>4.1 and up</td>\n",
       "    </tr>\n",
       "    <tr>\n",
       "      <th>10838</th>\n",
       "      <td>Subway Surfers</td>\n",
       "      <td>GAME</td>\n",
       "      <td>4.5</td>\n",
       "      <td>27725352</td>\n",
       "      <td>76.0</td>\n",
       "      <td>1000000000</td>\n",
       "      <td>Free</td>\n",
       "      <td>0</td>\n",
       "      <td>Everyone 10+</td>\n",
       "      <td>Arcade</td>\n",
       "      <td>July 12, 2018</td>\n",
       "      <td>4.1 and up</td>\n",
       "    </tr>\n",
       "    <tr>\n",
       "      <th>10839</th>\n",
       "      <td>Subway Surfers</td>\n",
       "      <td>GAME</td>\n",
       "      <td>4.5</td>\n",
       "      <td>27725352</td>\n",
       "      <td>76.0</td>\n",
       "      <td>1000000000</td>\n",
       "      <td>Free</td>\n",
       "      <td>0</td>\n",
       "      <td>Everyone 10+</td>\n",
       "      <td>Arcade</td>\n",
       "      <td>July 12, 2018</td>\n",
       "      <td>4.1 and up</td>\n",
       "    </tr>\n",
       "    <tr>\n",
       "      <th>10840</th>\n",
       "      <td>Subway Surfers</td>\n",
       "      <td>GAME</td>\n",
       "      <td>4.5</td>\n",
       "      <td>27711703</td>\n",
       "      <td>76.0</td>\n",
       "      <td>1000000000</td>\n",
       "      <td>Free</td>\n",
       "      <td>0</td>\n",
       "      <td>Everyone 10+</td>\n",
       "      <td>Arcade</td>\n",
       "      <td>July 12, 2018</td>\n",
       "      <td>4.1 and up</td>\n",
       "    </tr>\n",
       "  </tbody>\n",
       "</table>\n",
       "</div>"
      ],
      "text/plain": [
       "                  App Category  Rating   Reviews  Size_MBs    Installs  Type  \\\n",
       "10836  Subway Surfers     GAME     4.5  27723193      76.0  1000000000  Free   \n",
       "10837  Subway Surfers     GAME     4.5  27724094      76.0  1000000000  Free   \n",
       "10838  Subway Surfers     GAME     4.5  27725352      76.0  1000000000  Free   \n",
       "10839  Subway Surfers     GAME     4.5  27725352      76.0  1000000000  Free   \n",
       "10840  Subway Surfers     GAME     4.5  27711703      76.0  1000000000  Free   \n",
       "\n",
       "      Price Content_Rating  Genres   Last_Updated Android_Ver  \n",
       "10836     0   Everyone 10+  Arcade  July 12, 2018  4.1 and up  \n",
       "10837     0   Everyone 10+  Arcade  July 12, 2018  4.1 and up  \n",
       "10838     0   Everyone 10+  Arcade  July 12, 2018  4.1 and up  \n",
       "10839     0   Everyone 10+  Arcade  July 12, 2018  4.1 and up  \n",
       "10840     0   Everyone 10+  Arcade  July 12, 2018  4.1 and up  "
      ]
     },
     "execution_count": 147,
     "metadata": {},
     "output_type": "execute_result"
    }
   ],
   "source": [
    "data.tail()"
   ]
  },
  {
   "cell_type": "code",
   "execution_count": 149,
   "id": "4ef5029f-b8ba-498e-b0b3-5157065b0b3e",
   "metadata": {},
   "outputs": [
    {
     "data": {
      "text/plain": [
       "App                object\n",
       "Category           object\n",
       "Rating            float64\n",
       "Reviews             int64\n",
       "Size_MBs          float64\n",
       "Installs            int64\n",
       "Type               object\n",
       "Price              object\n",
       "Content_Rating     object\n",
       "Genres             object\n",
       "Last_Updated       object\n",
       "Android_Ver        object\n",
       "dtype: object"
      ]
     },
     "execution_count": 149,
     "metadata": {},
     "output_type": "execute_result"
    }
   ],
   "source": [
    "data.dtypes"
   ]
  },
  {
   "cell_type": "code",
   "execution_count": 151,
   "id": "14f5dbcc-4747-41c9-b880-10df2a661ab1",
   "metadata": {},
   "outputs": [
    {
     "data": {
      "text/html": [
       "<div>\n",
       "<style scoped>\n",
       "    .dataframe tbody tr th:only-of-type {\n",
       "        vertical-align: middle;\n",
       "    }\n",
       "\n",
       "    .dataframe tbody tr th {\n",
       "        vertical-align: top;\n",
       "    }\n",
       "\n",
       "    .dataframe thead th {\n",
       "        text-align: right;\n",
       "    }\n",
       "</style>\n",
       "<table border=\"1\" class=\"dataframe\">\n",
       "  <thead>\n",
       "    <tr style=\"text-align: right;\">\n",
       "      <th></th>\n",
       "      <th>App</th>\n",
       "      <th>Category</th>\n",
       "      <th>Rating</th>\n",
       "      <th>Reviews</th>\n",
       "      <th>Size_MBs</th>\n",
       "      <th>Installs</th>\n",
       "      <th>Type</th>\n",
       "      <th>Price</th>\n",
       "      <th>Content_Rating</th>\n",
       "      <th>Genres</th>\n",
       "      <th>Last_Updated</th>\n",
       "      <th>Android_Ver</th>\n",
       "    </tr>\n",
       "  </thead>\n",
       "  <tbody>\n",
       "    <tr>\n",
       "      <th>1538</th>\n",
       "      <td>DT Baby Cam</td>\n",
       "      <td>TOOLS</td>\n",
       "      <td>1.7</td>\n",
       "      <td>10</td>\n",
       "      <td>23.0</td>\n",
       "      <td>500</td>\n",
       "      <td>Free</td>\n",
       "      <td>0</td>\n",
       "      <td>Everyone</td>\n",
       "      <td>Tools</td>\n",
       "      <td>December 5, 2017</td>\n",
       "      <td>2.2 and up</td>\n",
       "    </tr>\n",
       "  </tbody>\n",
       "</table>\n",
       "</div>"
      ],
      "text/plain": [
       "              App Category  Rating  Reviews  Size_MBs  Installs  Type Price  \\\n",
       "1538  DT Baby Cam    TOOLS     1.7       10      23.0       500  Free     0   \n",
       "\n",
       "     Content_Rating Genres      Last_Updated Android_Ver  \n",
       "1538       Everyone  Tools  December 5, 2017  2.2 and up  "
      ]
     },
     "execution_count": 151,
     "metadata": {},
     "output_type": "execute_result"
    }
   ],
   "source": [
    "data.sample()"
   ]
  },
  {
   "cell_type": "code",
   "execution_count": 153,
   "id": "0369b422-63f0-4382-8afd-f558885e7a4a",
   "metadata": {},
   "outputs": [
    {
     "data": {
      "text/plain": [
       "(10841, 12)"
      ]
     },
     "execution_count": 153,
     "metadata": {},
     "output_type": "execute_result"
    }
   ],
   "source": [
    "data.shape"
   ]
  },
  {
   "cell_type": "code",
   "execution_count": 155,
   "id": "b8c59e65-da71-4ce8-9e21-933578fcc1eb",
   "metadata": {},
   "outputs": [
    {
     "data": {
      "text/plain": [
       "True"
      ]
     },
     "execution_count": 155,
     "metadata": {},
     "output_type": "execute_result"
    }
   ],
   "source": [
    "data.isnull().values.any()"
   ]
  },
  {
   "cell_type": "code",
   "execution_count": 157,
   "id": "582dcc44-5df7-41de-800e-7bd7001c5a25",
   "metadata": {},
   "outputs": [
    {
     "data": {
      "text/plain": [
       "App    Category  Rating  Reviews  Size_MBs  Installs  Type   Price  Content_Rating  Genres  Last_Updated  Android_Ver\n",
       "False  False     False   False    False     False     False  False  False           False   False         False          9365\n",
       "                 True    False    False     False     False  False  False           False   False         False          1473\n",
       "                 False   False    False     False     False  False  False           False   False         True              2\n",
       "                 True    False    False     False     True   False  False           False   False         False             1\n",
       "Name: count, dtype: int64"
      ]
     },
     "execution_count": 157,
     "metadata": {},
     "output_type": "execute_result"
    }
   ],
   "source": [
    "data.isna().value_counts()"
   ]
  },
  {
   "cell_type": "markdown",
   "id": "eb4b6555-1c8b-4a5b-a017-b447083c5811",
   "metadata": {},
   "source": [
    "### Remove rows containg missing data:"
   ]
  },
  {
   "cell_type": "code",
   "execution_count": 160,
   "id": "9b7bca14-d8dd-4fad-9e84-e8ddcf483e93",
   "metadata": {},
   "outputs": [],
   "source": [
    "data.dropna(inplace=True)"
   ]
  },
  {
   "cell_type": "code",
   "execution_count": 162,
   "id": "56ae3d23-9c07-4b22-a28b-9bbe4d6973bf",
   "metadata": {},
   "outputs": [
    {
     "data": {
      "text/plain": [
       "(9365, 12)"
      ]
     },
     "execution_count": 162,
     "metadata": {},
     "output_type": "execute_result"
    }
   ],
   "source": [
    "data.shape"
   ]
  },
  {
   "cell_type": "code",
   "execution_count": 164,
   "id": "0e5b7e75-1a1d-4b49-a462-cf68560ee0ea",
   "metadata": {},
   "outputs": [
    {
     "data": {
      "text/plain": [
       "Index(['App', 'Category', 'Rating', 'Reviews', 'Size_MBs', 'Installs', 'Type',\n",
       "       'Price', 'Content_Rating', 'Genres', 'Last_Updated', 'Android_Ver'],\n",
       "      dtype='object')"
      ]
     },
     "execution_count": 164,
     "metadata": {},
     "output_type": "execute_result"
    }
   ],
   "source": [
    "data.columns"
   ]
  },
  {
   "cell_type": "code",
   "execution_count": 166,
   "id": "d85003ac-5b68-42f9-a2c3-5047e37e322f",
   "metadata": {},
   "outputs": [],
   "source": [
    "data.drop(labels=['Android_Ver','Last_Updated'], axis=\"columns\", inplace=True)"
   ]
  },
  {
   "cell_type": "code",
   "execution_count": 168,
   "id": "9668f2a9-0998-45b6-b43c-75d2e7e2cd0d",
   "metadata": {},
   "outputs": [
    {
     "data": {
      "text/html": [
       "<div>\n",
       "<style scoped>\n",
       "    .dataframe tbody tr th:only-of-type {\n",
       "        vertical-align: middle;\n",
       "    }\n",
       "\n",
       "    .dataframe tbody tr th {\n",
       "        vertical-align: top;\n",
       "    }\n",
       "\n",
       "    .dataframe thead th {\n",
       "        text-align: right;\n",
       "    }\n",
       "</style>\n",
       "<table border=\"1\" class=\"dataframe\">\n",
       "  <thead>\n",
       "    <tr style=\"text-align: right;\">\n",
       "      <th></th>\n",
       "      <th>App</th>\n",
       "      <th>Category</th>\n",
       "      <th>Rating</th>\n",
       "      <th>Reviews</th>\n",
       "      <th>Size_MBs</th>\n",
       "      <th>Installs</th>\n",
       "      <th>Type</th>\n",
       "      <th>Price</th>\n",
       "      <th>Content_Rating</th>\n",
       "      <th>Genres</th>\n",
       "    </tr>\n",
       "  </thead>\n",
       "  <tbody>\n",
       "    <tr>\n",
       "      <th>1423</th>\n",
       "      <td>HON. B.J. ACS COLLEGE ALE</td>\n",
       "      <td>FAMILY</td>\n",
       "      <td>5.0</td>\n",
       "      <td>3</td>\n",
       "      <td>1.8</td>\n",
       "      <td>100</td>\n",
       "      <td>Free</td>\n",
       "      <td>0</td>\n",
       "      <td>Mature 17+</td>\n",
       "      <td>Education</td>\n",
       "    </tr>\n",
       "  </tbody>\n",
       "</table>\n",
       "</div>"
      ],
      "text/plain": [
       "                            App Category  Rating  Reviews  Size_MBs  Installs  \\\n",
       "1423  HON. B.J. ACS COLLEGE ALE   FAMILY     5.0        3       1.8       100   \n",
       "\n",
       "      Type Price Content_Rating     Genres  \n",
       "1423  Free     0     Mature 17+  Education  "
      ]
     },
     "execution_count": 168,
     "metadata": {},
     "output_type": "execute_result"
    }
   ],
   "source": [
    "data.sample()"
   ]
  },
  {
   "cell_type": "markdown",
   "id": "0996d712-ba12-44c4-ab3f-952c2e4a1743",
   "metadata": {},
   "source": [
    "### Fix data types:"
   ]
  },
  {
   "cell_type": "code",
   "execution_count": 188,
   "id": "3b6105c0-6af9-4e30-99d2-c95691a065b3",
   "metadata": {},
   "outputs": [
    {
     "data": {
      "text/plain": [
       "App                object\n",
       "Category           object\n",
       "Rating            float64\n",
       "Reviews             int64\n",
       "Size_MBs          float64\n",
       "Installs            int64\n",
       "Type               object\n",
       "Price              object\n",
       "Content_Rating     object\n",
       "Genres             object\n",
       "dtype: object"
      ]
     },
     "execution_count": 188,
     "metadata": {},
     "output_type": "execute_result"
    }
   ],
   "source": [
    "data.dtypes"
   ]
  },
  {
   "cell_type": "code",
   "execution_count": 190,
   "id": "44b16379-5a00-4cc3-a11b-9f499da49edd",
   "metadata": {},
   "outputs": [
    {
     "data": {
      "text/plain": [
       "21           0\n",
       "28       $1.49\n",
       "47       $0.99\n",
       "82           0\n",
       "99           0\n",
       "         ...  \n",
       "10836        0\n",
       "10837        0\n",
       "10838        0\n",
       "10839        0\n",
       "10840        0\n",
       "Name: Price, Length: 9365, dtype: object"
      ]
     },
     "execution_count": 190,
     "metadata": {},
     "output_type": "execute_result"
    }
   ],
   "source": [
    "data.Price"
   ]
  },
  {
   "cell_type": "code",
   "execution_count": 222,
   "id": "9a0c03bb-48db-4fc2-9e31-e71e05a28ac3",
   "metadata": {},
   "outputs": [],
   "source": [
    "data.Price = data.Price.replace({'\\\\$': ''}, regex=True)"
   ]
  },
  {
   "cell_type": "code",
   "execution_count": 224,
   "id": "6efdf6e8-7b95-4b97-8988-5f59fadb766c",
   "metadata": {},
   "outputs": [
    {
     "data": {
      "text/plain": [
       "21          0\n",
       "28       1.49\n",
       "47       0.99\n",
       "82          0\n",
       "99          0\n",
       "         ... \n",
       "10836       0\n",
       "10837       0\n",
       "10838       0\n",
       "10839       0\n",
       "10840       0\n",
       "Name: Price, Length: 9365, dtype: object"
      ]
     },
     "execution_count": 224,
     "metadata": {},
     "output_type": "execute_result"
    }
   ],
   "source": [
    "data.Price"
   ]
  },
  {
   "cell_type": "code",
   "execution_count": 226,
   "id": "73d74b8f-21e7-4154-b688-1879648b0477",
   "metadata": {},
   "outputs": [
    {
     "data": {
      "text/plain": [
       "App                object\n",
       "Category           object\n",
       "Rating            float64\n",
       "Reviews             int64\n",
       "Size_MBs          float64\n",
       "Installs            int64\n",
       "Type               object\n",
       "Price              object\n",
       "Content_Rating     object\n",
       "Genres             object\n",
       "dtype: object"
      ]
     },
     "execution_count": 226,
     "metadata": {},
     "output_type": "execute_result"
    }
   ],
   "source": [
    "data.dtypes"
   ]
  },
  {
   "cell_type": "code",
   "execution_count": 230,
   "id": "37a31a60-095a-40ef-b0d4-77a8e0751359",
   "metadata": {},
   "outputs": [],
   "source": [
    "data.Price = data.Price.astype('float64')"
   ]
  },
  {
   "cell_type": "code",
   "execution_count": 232,
   "id": "71fb1a00-112d-41e9-a899-22e410cff47b",
   "metadata": {},
   "outputs": [
    {
     "data": {
      "text/plain": [
       "App                object\n",
       "Category           object\n",
       "Rating            float64\n",
       "Reviews             int64\n",
       "Size_MBs          float64\n",
       "Installs            int64\n",
       "Type               object\n",
       "Price             float64\n",
       "Content_Rating     object\n",
       "Genres             object\n",
       "dtype: object"
      ]
     },
     "execution_count": 232,
     "metadata": {},
     "output_type": "execute_result"
    }
   ],
   "source": [
    "data.dtypes"
   ]
  },
  {
   "cell_type": "markdown",
   "id": "56c85316-00f0-4d96-97f0-26dfab25de3b",
   "metadata": {},
   "source": [
    "### Check for and remove duplicates:"
   ]
  },
  {
   "cell_type": "code",
   "execution_count": 244,
   "id": "2f7d3c17-c252-4228-af3c-42caa966c348",
   "metadata": {},
   "outputs": [],
   "source": [
    "duplicated = data[data.duplicated()]"
   ]
  },
  {
   "cell_type": "code",
   "execution_count": 252,
   "id": "6270b32b-1a96-494d-9448-b99329cc2b7c",
   "metadata": {},
   "outputs": [
    {
     "data": {
      "text/html": [
       "<div>\n",
       "<style scoped>\n",
       "    .dataframe tbody tr th:only-of-type {\n",
       "        vertical-align: middle;\n",
       "    }\n",
       "\n",
       "    .dataframe tbody tr th {\n",
       "        vertical-align: top;\n",
       "    }\n",
       "\n",
       "    .dataframe thead th {\n",
       "        text-align: right;\n",
       "    }\n",
       "</style>\n",
       "<table border=\"1\" class=\"dataframe\">\n",
       "  <thead>\n",
       "    <tr style=\"text-align: right;\">\n",
       "      <th></th>\n",
       "      <th>App</th>\n",
       "      <th>Category</th>\n",
       "      <th>Rating</th>\n",
       "      <th>Reviews</th>\n",
       "      <th>Size_MBs</th>\n",
       "      <th>Installs</th>\n",
       "      <th>Type</th>\n",
       "      <th>Price</th>\n",
       "      <th>Content_Rating</th>\n",
       "      <th>Genres</th>\n",
       "    </tr>\n",
       "  </thead>\n",
       "  <tbody>\n",
       "    <tr>\n",
       "      <th>6371</th>\n",
       "      <td>10 Best Foods for You</td>\n",
       "      <td>HEALTH_AND_FITNESS</td>\n",
       "      <td>4.0</td>\n",
       "      <td>2490</td>\n",
       "      <td>3.8</td>\n",
       "      <td>500000</td>\n",
       "      <td>Free</td>\n",
       "      <td>0.00</td>\n",
       "      <td>Everyone 10+</td>\n",
       "      <td>Health &amp; Fitness</td>\n",
       "    </tr>\n",
       "    <tr>\n",
       "      <th>7159</th>\n",
       "      <td>1800 Contacts - Lens Store</td>\n",
       "      <td>MEDICAL</td>\n",
       "      <td>4.7</td>\n",
       "      <td>23160</td>\n",
       "      <td>26.0</td>\n",
       "      <td>1000000</td>\n",
       "      <td>Free</td>\n",
       "      <td>0.00</td>\n",
       "      <td>Everyone</td>\n",
       "      <td>Medical</td>\n",
       "    </tr>\n",
       "    <tr>\n",
       "      <th>2604</th>\n",
       "      <td>2017 EMRA Antibiotic Guide</td>\n",
       "      <td>MEDICAL</td>\n",
       "      <td>4.4</td>\n",
       "      <td>12</td>\n",
       "      <td>3.8</td>\n",
       "      <td>1000</td>\n",
       "      <td>Paid</td>\n",
       "      <td>16.99</td>\n",
       "      <td>Everyone</td>\n",
       "      <td>Medical</td>\n",
       "    </tr>\n",
       "    <tr>\n",
       "      <th>5140</th>\n",
       "      <td>21-Day Meditation Experience</td>\n",
       "      <td>HEALTH_AND_FITNESS</td>\n",
       "      <td>4.4</td>\n",
       "      <td>11506</td>\n",
       "      <td>15.0</td>\n",
       "      <td>100000</td>\n",
       "      <td>Free</td>\n",
       "      <td>0.00</td>\n",
       "      <td>Everyone</td>\n",
       "      <td>Health &amp; Fitness</td>\n",
       "    </tr>\n",
       "    <tr>\n",
       "      <th>946</th>\n",
       "      <td>420 BZ Budeze Delivery</td>\n",
       "      <td>MEDICAL</td>\n",
       "      <td>5.0</td>\n",
       "      <td>2</td>\n",
       "      <td>11.0</td>\n",
       "      <td>100</td>\n",
       "      <td>Free</td>\n",
       "      <td>0.00</td>\n",
       "      <td>Mature 17+</td>\n",
       "      <td>Medical</td>\n",
       "    </tr>\n",
       "    <tr>\n",
       "      <th>9760</th>\n",
       "      <td>8fit Workouts &amp; Meal Planner</td>\n",
       "      <td>HEALTH_AND_FITNESS</td>\n",
       "      <td>4.6</td>\n",
       "      <td>115721</td>\n",
       "      <td>67.0</td>\n",
       "      <td>10000000</td>\n",
       "      <td>Free</td>\n",
       "      <td>0.00</td>\n",
       "      <td>Everyone</td>\n",
       "      <td>Health &amp; Fitness</td>\n",
       "    </tr>\n",
       "    <tr>\n",
       "      <th>2482</th>\n",
       "      <td>A Manual of Acupuncture</td>\n",
       "      <td>MEDICAL</td>\n",
       "      <td>3.5</td>\n",
       "      <td>214</td>\n",
       "      <td>68.0</td>\n",
       "      <td>1000</td>\n",
       "      <td>Paid</td>\n",
       "      <td>33.99</td>\n",
       "      <td>Everyone</td>\n",
       "      <td>Medical</td>\n",
       "    </tr>\n",
       "    <tr>\n",
       "      <th>6439</th>\n",
       "      <td>A&amp;E - Watch Full Episodes of TV Shows</td>\n",
       "      <td>ENTERTAINMENT</td>\n",
       "      <td>4.0</td>\n",
       "      <td>29706</td>\n",
       "      <td>19.0</td>\n",
       "      <td>1000000</td>\n",
       "      <td>Free</td>\n",
       "      <td>0.00</td>\n",
       "      <td>Teen</td>\n",
       "      <td>Entertainment</td>\n",
       "    </tr>\n",
       "    <tr>\n",
       "      <th>6443</th>\n",
       "      <td>A&amp;E - Watch Full Episodes of TV Shows</td>\n",
       "      <td>ENTERTAINMENT</td>\n",
       "      <td>4.0</td>\n",
       "      <td>29706</td>\n",
       "      <td>19.0</td>\n",
       "      <td>1000000</td>\n",
       "      <td>Free</td>\n",
       "      <td>0.00</td>\n",
       "      <td>Teen</td>\n",
       "      <td>Entertainment</td>\n",
       "    </tr>\n",
       "    <tr>\n",
       "      <th>3465</th>\n",
       "      <td>AAFP</td>\n",
       "      <td>MEDICAL</td>\n",
       "      <td>3.8</td>\n",
       "      <td>63</td>\n",
       "      <td>24.0</td>\n",
       "      <td>10000</td>\n",
       "      <td>Free</td>\n",
       "      <td>0.00</td>\n",
       "      <td>Everyone</td>\n",
       "      <td>Medical</td>\n",
       "    </tr>\n",
       "  </tbody>\n",
       "</table>\n",
       "</div>"
      ],
      "text/plain": [
       "                                        App            Category  Rating  \\\n",
       "6371                  10 Best Foods for You  HEALTH_AND_FITNESS     4.0   \n",
       "7159             1800 Contacts - Lens Store             MEDICAL     4.7   \n",
       "2604             2017 EMRA Antibiotic Guide             MEDICAL     4.4   \n",
       "5140           21-Day Meditation Experience  HEALTH_AND_FITNESS     4.4   \n",
       "946                  420 BZ Budeze Delivery             MEDICAL     5.0   \n",
       "9760           8fit Workouts & Meal Planner  HEALTH_AND_FITNESS     4.6   \n",
       "2482                A Manual of Acupuncture             MEDICAL     3.5   \n",
       "6439  A&E - Watch Full Episodes of TV Shows       ENTERTAINMENT     4.0   \n",
       "6443  A&E - Watch Full Episodes of TV Shows       ENTERTAINMENT     4.0   \n",
       "3465                                   AAFP             MEDICAL     3.8   \n",
       "\n",
       "      Reviews  Size_MBs  Installs  Type  Price Content_Rating  \\\n",
       "6371     2490       3.8    500000  Free   0.00   Everyone 10+   \n",
       "7159    23160      26.0   1000000  Free   0.00       Everyone   \n",
       "2604       12       3.8      1000  Paid  16.99       Everyone   \n",
       "5140    11506      15.0    100000  Free   0.00       Everyone   \n",
       "946         2      11.0       100  Free   0.00     Mature 17+   \n",
       "9760   115721      67.0  10000000  Free   0.00       Everyone   \n",
       "2482      214      68.0      1000  Paid  33.99       Everyone   \n",
       "6439    29706      19.0   1000000  Free   0.00           Teen   \n",
       "6443    29706      19.0   1000000  Free   0.00           Teen   \n",
       "3465       63      24.0     10000  Free   0.00       Everyone   \n",
       "\n",
       "                Genres  \n",
       "6371  Health & Fitness  \n",
       "7159           Medical  \n",
       "2604           Medical  \n",
       "5140  Health & Fitness  \n",
       "946            Medical  \n",
       "9760  Health & Fitness  \n",
       "2482           Medical  \n",
       "6439     Entertainment  \n",
       "6443     Entertainment  \n",
       "3465           Medical  "
      ]
     },
     "execution_count": 252,
     "metadata": {},
     "output_type": "execute_result"
    }
   ],
   "source": [
    "duplicated.sort_values('App').head(10)"
   ]
  },
  {
   "cell_type": "code",
   "execution_count": 254,
   "id": "294bf1c3-cb87-4edd-a804-3fb421f3e270",
   "metadata": {},
   "outputs": [
    {
     "data": {
      "text/html": [
       "<div>\n",
       "<style scoped>\n",
       "    .dataframe tbody tr th:only-of-type {\n",
       "        vertical-align: middle;\n",
       "    }\n",
       "\n",
       "    .dataframe tbody tr th {\n",
       "        vertical-align: top;\n",
       "    }\n",
       "\n",
       "    .dataframe thead th {\n",
       "        text-align: right;\n",
       "    }\n",
       "</style>\n",
       "<table border=\"1\" class=\"dataframe\">\n",
       "  <thead>\n",
       "    <tr style=\"text-align: right;\">\n",
       "      <th></th>\n",
       "      <th>App</th>\n",
       "      <th>Category</th>\n",
       "      <th>Rating</th>\n",
       "      <th>Reviews</th>\n",
       "      <th>Size_MBs</th>\n",
       "      <th>Installs</th>\n",
       "      <th>Type</th>\n",
       "      <th>Price</th>\n",
       "      <th>Content_Rating</th>\n",
       "      <th>Genres</th>\n",
       "    </tr>\n",
       "  </thead>\n",
       "  <tbody>\n",
       "    <tr>\n",
       "      <th>6837</th>\n",
       "      <td>join.me - Simple Meetings</td>\n",
       "      <td>BUSINESS</td>\n",
       "      <td>4.0</td>\n",
       "      <td>6989</td>\n",
       "      <td>7.2</td>\n",
       "      <td>1000000</td>\n",
       "      <td>Free</td>\n",
       "      <td>0.0</td>\n",
       "      <td>Everyone</td>\n",
       "      <td>Business</td>\n",
       "    </tr>\n",
       "    <tr>\n",
       "      <th>4761</th>\n",
       "      <td>muzmatch: Muslim &amp; Arab Singles, Marriage &amp; Da...</td>\n",
       "      <td>DATING</td>\n",
       "      <td>3.8</td>\n",
       "      <td>5164</td>\n",
       "      <td>25.0</td>\n",
       "      <td>100000</td>\n",
       "      <td>Free</td>\n",
       "      <td>0.0</td>\n",
       "      <td>Mature 17+</td>\n",
       "      <td>Dating</td>\n",
       "    </tr>\n",
       "    <tr>\n",
       "      <th>7783</th>\n",
       "      <td>mySugr: the blood sugar tracker made just for you</td>\n",
       "      <td>MEDICAL</td>\n",
       "      <td>4.6</td>\n",
       "      <td>21189</td>\n",
       "      <td>36.0</td>\n",
       "      <td>1000000</td>\n",
       "      <td>Free</td>\n",
       "      <td>0.0</td>\n",
       "      <td>Everyone</td>\n",
       "      <td>Medical</td>\n",
       "    </tr>\n",
       "    <tr>\n",
       "      <th>9783</th>\n",
       "      <td>osmino Wi-Fi: free WiFi</td>\n",
       "      <td>TOOLS</td>\n",
       "      <td>4.2</td>\n",
       "      <td>134203</td>\n",
       "      <td>4.1</td>\n",
       "      <td>10000000</td>\n",
       "      <td>Free</td>\n",
       "      <td>0.0</td>\n",
       "      <td>Everyone</td>\n",
       "      <td>Tools</td>\n",
       "    </tr>\n",
       "    <tr>\n",
       "      <th>10400</th>\n",
       "      <td>slither.io</td>\n",
       "      <td>GAME</td>\n",
       "      <td>4.4</td>\n",
       "      <td>5235294</td>\n",
       "      <td>36.0</td>\n",
       "      <td>100000000</td>\n",
       "      <td>Free</td>\n",
       "      <td>0.0</td>\n",
       "      <td>Everyone</td>\n",
       "      <td>Action</td>\n",
       "    </tr>\n",
       "    <tr>\n",
       "      <th>9635</th>\n",
       "      <td>theScore: Live Sports Scores, News, Stats &amp; Vi...</td>\n",
       "      <td>SPORTS</td>\n",
       "      <td>4.4</td>\n",
       "      <td>133833</td>\n",
       "      <td>34.0</td>\n",
       "      <td>10000000</td>\n",
       "      <td>Free</td>\n",
       "      <td>0.0</td>\n",
       "      <td>Everyone 10+</td>\n",
       "      <td>Sports</td>\n",
       "    </tr>\n",
       "    <tr>\n",
       "      <th>9634</th>\n",
       "      <td>theScore: Live Sports Scores, News, Stats &amp; Vi...</td>\n",
       "      <td>SPORTS</td>\n",
       "      <td>4.4</td>\n",
       "      <td>133833</td>\n",
       "      <td>34.0</td>\n",
       "      <td>10000000</td>\n",
       "      <td>Free</td>\n",
       "      <td>0.0</td>\n",
       "      <td>Everyone 10+</td>\n",
       "      <td>Sports</td>\n",
       "    </tr>\n",
       "    <tr>\n",
       "      <th>9632</th>\n",
       "      <td>theScore: Live Sports Scores, News, Stats &amp; Vi...</td>\n",
       "      <td>SPORTS</td>\n",
       "      <td>4.4</td>\n",
       "      <td>133825</td>\n",
       "      <td>34.0</td>\n",
       "      <td>10000000</td>\n",
       "      <td>Free</td>\n",
       "      <td>0.0</td>\n",
       "      <td>Everyone 10+</td>\n",
       "      <td>Sports</td>\n",
       "    </tr>\n",
       "    <tr>\n",
       "      <th>10156</th>\n",
       "      <td>trivago: Hotels &amp; Travel</td>\n",
       "      <td>TRAVEL_AND_LOCAL</td>\n",
       "      <td>4.2</td>\n",
       "      <td>219848</td>\n",
       "      <td>12.0</td>\n",
       "      <td>50000000</td>\n",
       "      <td>Free</td>\n",
       "      <td>0.0</td>\n",
       "      <td>Everyone</td>\n",
       "      <td>Travel &amp; Local</td>\n",
       "    </tr>\n",
       "    <tr>\n",
       "      <th>10159</th>\n",
       "      <td>trivago: Hotels &amp; Travel</td>\n",
       "      <td>TRAVEL_AND_LOCAL</td>\n",
       "      <td>4.2</td>\n",
       "      <td>219848</td>\n",
       "      <td>12.0</td>\n",
       "      <td>50000000</td>\n",
       "      <td>Free</td>\n",
       "      <td>0.0</td>\n",
       "      <td>Everyone</td>\n",
       "      <td>Travel &amp; Local</td>\n",
       "    </tr>\n",
       "  </tbody>\n",
       "</table>\n",
       "</div>"
      ],
      "text/plain": [
       "                                                     App          Category  \\\n",
       "6837                           join.me - Simple Meetings          BUSINESS   \n",
       "4761   muzmatch: Muslim & Arab Singles, Marriage & Da...            DATING   \n",
       "7783   mySugr: the blood sugar tracker made just for you           MEDICAL   \n",
       "9783                             osmino Wi-Fi: free WiFi             TOOLS   \n",
       "10400                                         slither.io              GAME   \n",
       "9635   theScore: Live Sports Scores, News, Stats & Vi...            SPORTS   \n",
       "9634   theScore: Live Sports Scores, News, Stats & Vi...            SPORTS   \n",
       "9632   theScore: Live Sports Scores, News, Stats & Vi...            SPORTS   \n",
       "10156                           trivago: Hotels & Travel  TRAVEL_AND_LOCAL   \n",
       "10159                           trivago: Hotels & Travel  TRAVEL_AND_LOCAL   \n",
       "\n",
       "       Rating  Reviews  Size_MBs   Installs  Type  Price Content_Rating  \\\n",
       "6837      4.0     6989       7.2    1000000  Free    0.0       Everyone   \n",
       "4761      3.8     5164      25.0     100000  Free    0.0     Mature 17+   \n",
       "7783      4.6    21189      36.0    1000000  Free    0.0       Everyone   \n",
       "9783      4.2   134203       4.1   10000000  Free    0.0       Everyone   \n",
       "10400     4.4  5235294      36.0  100000000  Free    0.0       Everyone   \n",
       "9635      4.4   133833      34.0   10000000  Free    0.0   Everyone 10+   \n",
       "9634      4.4   133833      34.0   10000000  Free    0.0   Everyone 10+   \n",
       "9632      4.4   133825      34.0   10000000  Free    0.0   Everyone 10+   \n",
       "10156     4.2   219848      12.0   50000000  Free    0.0       Everyone   \n",
       "10159     4.2   219848      12.0   50000000  Free    0.0       Everyone   \n",
       "\n",
       "               Genres  \n",
       "6837         Business  \n",
       "4761           Dating  \n",
       "7783          Medical  \n",
       "9783            Tools  \n",
       "10400          Action  \n",
       "9635           Sports  \n",
       "9634           Sports  \n",
       "9632           Sports  \n",
       "10156  Travel & Local  \n",
       "10159  Travel & Local  "
      ]
     },
     "execution_count": 254,
     "metadata": {},
     "output_type": "execute_result"
    }
   ],
   "source": [
    "duplicated.sort_values('App').tail(10)"
   ]
  },
  {
   "cell_type": "code",
   "execution_count": 256,
   "id": "890cf25c-84fa-4650-8a5f-e4839d3956e4",
   "metadata": {},
   "outputs": [],
   "source": [
    "data_cleaned = data.drop_duplicates(subset=['App','Type','Price'])"
   ]
  },
  {
   "cell_type": "code",
   "execution_count": 258,
   "id": "007f152f-e261-4152-a817-6562f7fafc5f",
   "metadata": {},
   "outputs": [
    {
     "data": {
      "text/plain": [
       "(8197, 10)"
      ]
     },
     "execution_count": 258,
     "metadata": {},
     "output_type": "execute_result"
    }
   ],
   "source": [
    "data_cleaned.shape"
   ]
  },
  {
   "cell_type": "code",
   "execution_count": null,
   "id": "09d135cd-43ec-4d28-af95-729470bf8e12",
   "metadata": {},
   "outputs": [],
   "source": []
  }
 ],
 "metadata": {
  "kernelspec": {
   "display_name": "Python 3 (ipykernel)",
   "language": "python",
   "name": "python3"
  },
  "language_info": {
   "codemirror_mode": {
    "name": "ipython",
    "version": 3
   },
   "file_extension": ".py",
   "mimetype": "text/x-python",
   "name": "python",
   "nbconvert_exporter": "python",
   "pygments_lexer": "ipython3",
   "version": "3.12.4"
  }
 },
 "nbformat": 4,
 "nbformat_minor": 5
}
